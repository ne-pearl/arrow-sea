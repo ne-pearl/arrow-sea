{
 "cells": [
  {
   "cell_type": "code",
   "execution_count": null,
   "id": "5bef9fdf",
   "metadata": {},
   "outputs": [],
   "source": [
    "import cvxpy as cp\n",
    "from pjm5bus import buses, generators, lines, offers, reference_bus, base_power"
   ]
  },
  {
   "cell_type": "code",
   "execution_count": null,
   "id": "4e057d99",
   "metadata": {},
   "outputs": [],
   "source": [
    "bus_idx = {bus_id: i for i, bus_id in enumerate(buses[\"id\"])}\n",
    "offers = offers.merge(generators, left_on=\"generator_id\", right_on=\"id\")"
   ]
  },
  {
   "cell_type": "code",
   "execution_count": null,
   "id": "598f9172",
   "metadata": {},
   "outputs": [],
   "source": [
    "p = cp.Variable(len(offers), name=\"p\")  # generation\n",
    "f = cp.Variable(len(lines), name=\"f\")  # line flows\n",
    "θ = cp.Variable(len(buses), name=\"θ\")  # bus angles"
   ]
  },
  {
   "cell_type": "code",
   "execution_count": null,
   "id": "5bafab66",
   "metadata": {},
   "outputs": [],
   "source": [
    "balance_constraints = []\n",
    "for i, row in buses.iterrows():\n",
    "    bus_id = row[\"id\"]\n",
    "    offers_in = offers[offers[\"bus_id\"] == bus_id].index\n",
    "    lines_in = lines[lines[\"to_bus_id\"] == bus_id].index\n",
    "    lines_out = lines[lines[\"from_bus_id\"] == bus_id].index\n",
    "    balance_constraints.append(\n",
    "        cp.sum(p[offers_in]) + cp.sum(f[lines_in])\n",
    "        == buses.at[i, \"load\"] + cp.sum(f[lines_out])\n",
    "    )"
   ]
  },
  {
   "cell_type": "code",
   "execution_count": null,
   "id": "5b6c57c2",
   "metadata": {},
   "outputs": [],
   "source": [
    "flow_constraints = []\n",
    "for i, row in lines.iterrows():\n",
    "    bus_from = bus_idx[row[\"from_bus_id\"]]\n",
    "    bus_to = bus_idx[row[\"to_bus_id\"]]\n",
    "    reactance = row[\"reactance\"]\n",
    "    flow_constraints.append(f[i] == (θ[bus_from] - θ[bus_to]) * base_power / reactance)"
   ]
  },
  {
   "cell_type": "code",
   "execution_count": null,
   "id": "b48cbbcb",
   "metadata": {},
   "outputs": [],
   "source": [
    "objective = cp.Minimize(\n",
    "    cp.sum([offer[\"price\"] * p[o] for o, offer in offers.iterrows()])\n",
    ")"
   ]
  },
  {
   "cell_type": "code",
   "execution_count": null,
   "id": "4f997f4c",
   "metadata": {},
   "outputs": [],
   "source": [
    "problem = cp.Problem(\n",
    "    objective,\n",
    "    [\n",
    "        *balance_constraints,\n",
    "        *flow_constraints,\n",
    "        f >= -lines[\"capacity\"],\n",
    "        f <= lines[\"capacity\"],\n",
    "        p >= 0,\n",
    "        p <= offers[\"quantity\"],\n",
    "        θ[bus_idx[reference_bus]] == 0,\n",
    "    ],\n",
    ")\n",
    "problem.solve(solver=\"ECOS\")"
   ]
  },
  {
   "cell_type": "code",
   "execution_count": null,
   "id": "c722b15c",
   "metadata": {},
   "outputs": [],
   "source": [
    "offers[\"dispatch\"] = p.value\n",
    "lines[\"flow\"] = f.value\n",
    "buses[\"angle\"] = θ.value\n",
    "buses[\"price\"] = [c.dual_value for c in balance_constraints]"
   ]
  },
  {
   "cell_type": "code",
   "execution_count": null,
   "id": "31a67e50",
   "metadata": {},
   "outputs": [],
   "source": [
    "print(problem)\n",
    "print(f\"Optimal dispatch cost: ${problem.value:.2f} / h\")"
   ]
  }
 ],
 "metadata": {
  "jupytext": {
   "cell_metadata_filter": "-all",
   "main_language": "python",
   "notebook_metadata_filter": "-all"
  }
 },
 "nbformat": 4,
 "nbformat_minor": 5
}
