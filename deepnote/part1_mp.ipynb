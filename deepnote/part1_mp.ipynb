{
 "cells": [
  {
   "cell_type": "code",
   "execution_count": 1,
   "id": "d882539b",
   "metadata": {},
   "outputs": [],
   "source": [
    "from dataclasses import fields\n",
    "from matplotlib import pyplot as plt\n",
    "from pandas import DataFrame\n",
    "import numpy as np\n",
    "import sea2025\n",
    "from part1_mp_helpers import clear_offer_stack, clear_offer_stack_fp, plot_offer_stack"
   ]
  },
  {
   "cell_type": "markdown",
   "id": "37aca334",
   "metadata": {},
   "source": [
    "Worksheet 1: Marginal pricing\n",
    "=============================\n",
    "\n",
    "# Objectives\n",
    "\n",
    "Revise the notions of economic dispatch and marginal price on the simplest possible network:\n",
    "* A geometric solution is available\n",
    "* We'll also consider a linear programming formulation, applicable to general networks"
   ]
  },
  {
   "cell_type": "markdown",
   "id": "584fa711",
   "metadata": {},
   "source": [
    "# Examine input data\n",
    "\n",
    "The format introduced in this section will be used in subsequent activities."
   ]
  },
  {
   "cell_type": "code",
   "execution_count": 2,
   "id": "8931af7c",
   "metadata": {},
   "outputs": [],
   "source": [
    "data = sea2025.data.read(\"data/fc1bus\")\n"
   ]
  },
  {
   "cell_type": "markdown",
   "id": "91345f08",
   "metadata": {},
   "source": [
    "Examine the data:"
   ]
  },
  {
   "cell_type": "code",
   "execution_count": 3,
   "id": "51cec6c0",
   "metadata": {},
   "outputs": [
    {
     "data": {
      "text/plain": [
       "(Field(name='buses',type=<class 'pandas.core.frame.DataFrame'>,default=<dataclasses._MISSING_TYPE object at 0x0000020C9FC1E5D0>,default_factory=<dataclasses._MISSING_TYPE object at 0x0000020C9FC1E5D0>,init=True,repr=True,hash=None,compare=True,metadata=mappingproxy({}),kw_only=False,_field_type=_FIELD),\n",
       " Field(name='generators',type=<class 'pandas.core.frame.DataFrame'>,default=<dataclasses._MISSING_TYPE object at 0x0000020C9FC1E5D0>,default_factory=<dataclasses._MISSING_TYPE object at 0x0000020C9FC1E5D0>,init=True,repr=True,hash=None,compare=True,metadata=mappingproxy({}),kw_only=False,_field_type=_FIELD),\n",
       " Field(name='lines',type=<class 'pandas.core.frame.DataFrame'>,default=<dataclasses._MISSING_TYPE object at 0x0000020C9FC1E5D0>,default_factory=<dataclasses._MISSING_TYPE object at 0x0000020C9FC1E5D0>,init=True,repr=True,hash=None,compare=True,metadata=mappingproxy({}),kw_only=False,_field_type=_FIELD),\n",
       " Field(name='offers',type=<class 'pandas.core.frame.DataFrame'>,default=<dataclasses._MISSING_TYPE object at 0x0000020C9FC1E5D0>,default_factory=<dataclasses._MISSING_TYPE object at 0x0000020C9FC1E5D0>,init=True,repr=True,hash=None,compare=True,metadata=mappingproxy({}),kw_only=False,_field_type=_FIELD),\n",
       " Field(name='loads',type=pandas.core.frame.DataFrame | None,default=<dataclasses._MISSING_TYPE object at 0x0000020C9FC1E5D0>,default_factory=<dataclasses._MISSING_TYPE object at 0x0000020C9FC1E5D0>,init=True,repr=True,hash=None,compare=True,metadata=mappingproxy({}),kw_only=False,_field_type=_FIELD),\n",
       " Field(name='reference_bus',type=<class 'str'>,default=<dataclasses._MISSING_TYPE object at 0x0000020C9FC1E5D0>,default_factory=<dataclasses._MISSING_TYPE object at 0x0000020C9FC1E5D0>,init=True,repr=True,hash=None,compare=True,metadata=mappingproxy({}),kw_only=False,_field_type=_FIELD),\n",
       " Field(name='base_power',type=<class 'float'>,default=<dataclasses._MISSING_TYPE object at 0x0000020C9FC1E5D0>,default_factory=<dataclasses._MISSING_TYPE object at 0x0000020C9FC1E5D0>,init=True,repr=True,hash=None,compare=True,metadata=mappingproxy({}),kw_only=False,_field_type=_FIELD))"
      ]
     },
     "execution_count": 3,
     "metadata": {},
     "output_type": "execute_result"
    }
   ],
   "source": [
    "fields(data)"
   ]
  },
  {
   "cell_type": "code",
   "execution_count": 4,
   "id": "4b5f3309",
   "metadata": {},
   "outputs": [
    {
     "data": {
      "text/html": [
       "<div>\n",
       "<style scoped>\n",
       "    .dataframe tbody tr th:only-of-type {\n",
       "        vertical-align: middle;\n",
       "    }\n",
       "\n",
       "    .dataframe tbody tr th {\n",
       "        vertical-align: top;\n",
       "    }\n",
       "\n",
       "    .dataframe thead th {\n",
       "        text-align: right;\n",
       "    }\n",
       "</style>\n",
       "<table border=\"1\" class=\"dataframe\">\n",
       "  <thead>\n",
       "    <tr style=\"text-align: right;\">\n",
       "      <th></th>\n",
       "      <th>id</th>\n",
       "      <th>load</th>\n",
       "      <th>x</th>\n",
       "      <th>y</th>\n",
       "    </tr>\n",
       "  </thead>\n",
       "  <tbody>\n",
       "    <tr>\n",
       "      <th>0</th>\n",
       "      <td>Bus1</td>\n",
       "      <td>350.0</td>\n",
       "      <td>0.0</td>\n",
       "      <td>0.0</td>\n",
       "    </tr>\n",
       "  </tbody>\n",
       "</table>\n",
       "</div>"
      ],
      "text/plain": [
       "     id   load    x    y\n",
       "0  Bus1  350.0  0.0  0.0"
      ]
     },
     "execution_count": 4,
     "metadata": {},
     "output_type": "execute_result"
    }
   ],
   "source": [
    "data.buses"
   ]
  },
  {
   "cell_type": "markdown",
   "id": "63365de9",
   "metadata": {},
   "source": [
    "Let's store the load/demand for later use:"
   ]
  },
  {
   "cell_type": "code",
   "execution_count": 5,
   "id": "aef42b3c",
   "metadata": {},
   "outputs": [
    {
     "data": {
      "text/plain": [
       "350.0"
      ]
     },
     "execution_count": 5,
     "metadata": {},
     "output_type": "execute_result"
    }
   ],
   "source": [
    "assert data.buses.index.size == 1\n",
    "load = data.buses.at[0, \"load\"]  # Python indexing starts at 0\n",
    "load # [MW]"
   ]
  },
  {
   "cell_type": "markdown",
   "id": "45b5f1c1",
   "metadata": {},
   "source": [
    "Note the `fixed_cost` column: It is **not** used in our OPF formulation. We'll return to this later."
   ]
  },
  {
   "cell_type": "code",
   "execution_count": 6,
   "id": "7b9a5dcc",
   "metadata": {},
   "outputs": [
    {
     "data": {
      "text/html": [
       "<div>\n",
       "<style scoped>\n",
       "    .dataframe tbody tr th:only-of-type {\n",
       "        vertical-align: middle;\n",
       "    }\n",
       "\n",
       "    .dataframe tbody tr th {\n",
       "        vertical-align: top;\n",
       "    }\n",
       "\n",
       "    .dataframe thead th {\n",
       "        text-align: right;\n",
       "    }\n",
       "</style>\n",
       "<table border=\"1\" class=\"dataframe\">\n",
       "  <thead>\n",
       "    <tr style=\"text-align: right;\">\n",
       "      <th></th>\n",
       "      <th>id</th>\n",
       "      <th>bus_id</th>\n",
       "      <th>capacity</th>\n",
       "      <th>fixed_cost</th>\n",
       "    </tr>\n",
       "  </thead>\n",
       "  <tbody>\n",
       "    <tr>\n",
       "      <th>0</th>\n",
       "      <td>A</td>\n",
       "      <td>Bus1</td>\n",
       "      <td>200.0</td>\n",
       "      <td>0.0</td>\n",
       "    </tr>\n",
       "    <tr>\n",
       "      <th>1</th>\n",
       "      <td>B</td>\n",
       "      <td>Bus1</td>\n",
       "      <td>200.0</td>\n",
       "      <td>6000.0</td>\n",
       "    </tr>\n",
       "    <tr>\n",
       "      <th>2</th>\n",
       "      <td>C</td>\n",
       "      <td>Bus1</td>\n",
       "      <td>200.0</td>\n",
       "      <td>8000.0</td>\n",
       "    </tr>\n",
       "  </tbody>\n",
       "</table>\n",
       "</div>"
      ],
      "text/plain": [
       "  id bus_id  capacity  fixed_cost\n",
       "0  A   Bus1     200.0         0.0\n",
       "1  B   Bus1     200.0      6000.0\n",
       "2  C   Bus1     200.0      8000.0"
      ]
     },
     "execution_count": 6,
     "metadata": {},
     "output_type": "execute_result"
    }
   ],
   "source": [
    "data.generators"
   ]
  },
  {
   "cell_type": "markdown",
   "id": "a986b9f3",
   "metadata": {},
   "source": [
    "A trivial network (one bus) has no lines:"
   ]
  },
  {
   "cell_type": "code",
   "execution_count": 7,
   "id": "e310d2b6",
   "metadata": {},
   "outputs": [
    {
     "data": {
      "text/html": [
       "<div>\n",
       "<style scoped>\n",
       "    .dataframe tbody tr th:only-of-type {\n",
       "        vertical-align: middle;\n",
       "    }\n",
       "\n",
       "    .dataframe tbody tr th {\n",
       "        vertical-align: top;\n",
       "    }\n",
       "\n",
       "    .dataframe thead th {\n",
       "        text-align: right;\n",
       "    }\n",
       "</style>\n",
       "<table border=\"1\" class=\"dataframe\">\n",
       "  <thead>\n",
       "    <tr style=\"text-align: right;\">\n",
       "      <th></th>\n",
       "      <th>from_bus_id</th>\n",
       "      <th>to_bus_id</th>\n",
       "      <th>capacity</th>\n",
       "      <th>reactance</th>\n",
       "    </tr>\n",
       "  </thead>\n",
       "  <tbody>\n",
       "  </tbody>\n",
       "</table>\n",
       "</div>"
      ],
      "text/plain": [
       "Empty DataFrame\n",
       "Columns: [from_bus_id, to_bus_id, capacity, reactance]\n",
       "Index: []"
      ]
     },
     "execution_count": 7,
     "metadata": {},
     "output_type": "execute_result"
    }
   ],
   "source": [
    "assert data.lines.index.size == 0\n",
    "data.lines  # just column headings - no data rows"
   ]
  },
  {
   "cell_type": "code",
   "execution_count": 8,
   "id": "d613e79d",
   "metadata": {},
   "outputs": [
    {
     "data": {
      "text/html": [
       "<div>\n",
       "<style scoped>\n",
       "    .dataframe tbody tr th:only-of-type {\n",
       "        vertical-align: middle;\n",
       "    }\n",
       "\n",
       "    .dataframe tbody tr th {\n",
       "        vertical-align: top;\n",
       "    }\n",
       "\n",
       "    .dataframe thead th {\n",
       "        text-align: right;\n",
       "    }\n",
       "</style>\n",
       "<table border=\"1\" class=\"dataframe\">\n",
       "  <thead>\n",
       "    <tr style=\"text-align: right;\">\n",
       "      <th></th>\n",
       "      <th>generator_id</th>\n",
       "      <th>quantity</th>\n",
       "      <th>price</th>\n",
       "      <th>tranche</th>\n",
       "      <th>id</th>\n",
       "    </tr>\n",
       "  </thead>\n",
       "  <tbody>\n",
       "    <tr>\n",
       "      <th>0</th>\n",
       "      <td>A</td>\n",
       "      <td>100.0</td>\n",
       "      <td>65.0</td>\n",
       "      <td>1</td>\n",
       "      <td>A/1</td>\n",
       "    </tr>\n",
       "    <tr>\n",
       "      <th>1</th>\n",
       "      <td>A</td>\n",
       "      <td>100.0</td>\n",
       "      <td>110.0</td>\n",
       "      <td>2</td>\n",
       "      <td>A/2</td>\n",
       "    </tr>\n",
       "    <tr>\n",
       "      <th>2</th>\n",
       "      <td>B</td>\n",
       "      <td>100.0</td>\n",
       "      <td>40.0</td>\n",
       "      <td>1</td>\n",
       "      <td>B/1</td>\n",
       "    </tr>\n",
       "    <tr>\n",
       "      <th>3</th>\n",
       "      <td>B</td>\n",
       "      <td>100.0</td>\n",
       "      <td>90.0</td>\n",
       "      <td>2</td>\n",
       "      <td>B/2</td>\n",
       "    </tr>\n",
       "    <tr>\n",
       "      <th>4</th>\n",
       "      <td>C</td>\n",
       "      <td>100.0</td>\n",
       "      <td>25.0</td>\n",
       "      <td>1</td>\n",
       "      <td>C/1</td>\n",
       "    </tr>\n",
       "    <tr>\n",
       "      <th>5</th>\n",
       "      <td>C</td>\n",
       "      <td>100.0</td>\n",
       "      <td>35.0</td>\n",
       "      <td>2</td>\n",
       "      <td>C/2</td>\n",
       "    </tr>\n",
       "  </tbody>\n",
       "</table>\n",
       "</div>"
      ],
      "text/plain": [
       "  generator_id  quantity  price  tranche   id\n",
       "0            A     100.0   65.0        1  A/1\n",
       "1            A     100.0  110.0        2  A/2\n",
       "2            B     100.0   40.0        1  B/1\n",
       "3            B     100.0   90.0        2  B/2\n",
       "4            C     100.0   25.0        1  C/1\n",
       "5            C     100.0   35.0        2  C/2"
      ]
     },
     "execution_count": 8,
     "metadata": {},
     "output_type": "execute_result"
    }
   ],
   "source": [
    "data.offers"
   ]
  },
  {
   "cell_type": "markdown",
   "id": "8552f823",
   "metadata": {},
   "source": [
    "# Geometric solution\n",
    "\n",
    "> The **Optimal Power Flow** problem is to determine the dispatch that satisfies a specified load/demand at minimum cost.\n",
    "> As a by-product, the solution procedure furnishes the **marginal price** to use in settling the transactions (between generators and loads).\n",
    "\n",
    "We'll start with an existing routine to generate the solution (optimal dispatch and marginal price) for the network above.\n",
    "\n",
    "Take a moment to relate the data above (which tables?) to the geometric solution shown in the plot below."
   ]
  },
  {
   "cell_type": "code",
   "execution_count": 9,
   "id": "b18b53ec",
   "metadata": {
    "lines_to_next_cell": 1
   },
   "outputs": [
    {
     "data": {
      "image/png": "[encoded data removed]",
      "text/plain": [
       "<Figure size 640x480 with 1 Axes>"
      ]
     },
     "metadata": {},
     "output_type": "display_data"
    },
    {
     "data": {
      "text/plain": [
       "<Figure size 640x480 with 0 Axes>"
      ]
     },
     "metadata": {},
     "output_type": "display_data"
    }
   ],
   "source": [
    "result = clear_offer_stack(data, load=load)\n",
    "plot_offer_stack(result.offers, load=load, marginal_price=result.marginal_price)\n",
    "plt.show(block=False)\n",
    "plt.savefig(\"images/offer-stack.png\")"
   ]
  },
  {
   "cell_type": "markdown",
   "id": "6f619cb6",
   "metadata": {},
   "source": [
    "# Linear programming solution\n",
    "\n",
    "The geometric procedure (manual/automated) isn't directly applicable to networks (with multiple buses/lines).\n",
    "\n",
    "The [linear programming](https://en.wikipedia.org/wiki/Linear_programming) (LP) formulation implemented in the function above is laid out below.\n",
    "\n",
    "Let's study it and discuss the main components:\n",
    "* Decision variables `p`\n",
    "* Power balance constraint\n",
    "* Capacity constraints"
   ]
  },
  {
   "cell_type": "code",
   "execution_count": 10,
   "id": "9c3b2b40",
   "metadata": {},
   "outputs": [],
   "source": [
    "import cvxpy as cp\n",
    "p = cp.Variable(data.offers.index.size, name=\"p\")\n",
    "objective = cp.Minimize(cp.sum([data.offers.at[o, \"price\"] * p[o] for o in data.offers.index]))\n",
    "balance_constraint = cp.sum([p[o] for o in data.offers.index]) == load\n",
    "problem = cp.Problem(\n",
    "    objective,\n",
    "    [\n",
    "        balance_constraint,\n",
    "        p >= 0,\n",
    "        p <= data.offers[\"quantity\"],\n",
    "    ],\n",
    ")\n",
    "problem.solve(solver=cp.HIGHS)\n",
    "assert problem.status == cp.OPTIMAL\n",
    "total_cost = problem.value  # [$/h]\n",
    "dispatch = p.value  # [MW]\n",
    "marginal_price = -balance_constraint.dual_value  # [$/MWh] the -sign is convention-dependent"
   ]
  },
  {
   "cell_type": "markdown",
   "id": "a7d6f35e",
   "metadata": {},
   "source": [
    "Verify that the results match our graphical solution:\n",
    "\n",
    "![](images/offer-stack-v1.png)"
   ]
  },
  {
   "cell_type": "code",
   "execution_count": 11,
   "id": "cab57d85",
   "metadata": {},
   "outputs": [
    {
     "data": {
      "text/plain": [
       "65.0"
      ]
     },
     "execution_count": 11,
     "metadata": {},
     "output_type": "execute_result"
    }
   ],
   "source": [
    "marginal_price"
   ]
  },
  {
   "cell_type": "code",
   "execution_count": 12,
   "id": "3e3ac0b3",
   "metadata": {},
   "outputs": [
    {
     "data": {
      "text/html": [
       "<div>\n",
       "<style scoped>\n",
       "    .dataframe tbody tr th:only-of-type {\n",
       "        vertical-align: middle;\n",
       "    }\n",
       "\n",
       "    .dataframe tbody tr th {\n",
       "        vertical-align: top;\n",
       "    }\n",
       "\n",
       "    .dataframe thead th {\n",
       "        text-align: right;\n",
       "    }\n",
       "</style>\n",
       "<table border=\"1\" class=\"dataframe\">\n",
       "  <thead>\n",
       "    <tr style=\"text-align: right;\">\n",
       "      <th></th>\n",
       "      <th>offer</th>\n",
       "      <th>dispatch</th>\n",
       "    </tr>\n",
       "  </thead>\n",
       "  <tbody>\n",
       "    <tr>\n",
       "      <th>0</th>\n",
       "      <td>A/1</td>\n",
       "      <td>50.0</td>\n",
       "    </tr>\n",
       "    <tr>\n",
       "      <th>1</th>\n",
       "      <td>A/2</td>\n",
       "      <td>-0.0</td>\n",
       "    </tr>\n",
       "    <tr>\n",
       "      <th>2</th>\n",
       "      <td>B/1</td>\n",
       "      <td>100.0</td>\n",
       "    </tr>\n",
       "    <tr>\n",
       "      <th>3</th>\n",
       "      <td>B/2</td>\n",
       "      <td>-0.0</td>\n",
       "    </tr>\n",
       "    <tr>\n",
       "      <th>4</th>\n",
       "      <td>C/1</td>\n",
       "      <td>100.0</td>\n",
       "    </tr>\n",
       "    <tr>\n",
       "      <th>5</th>\n",
       "      <td>C/2</td>\n",
       "      <td>100.0</td>\n",
       "    </tr>\n",
       "  </tbody>\n",
       "</table>\n",
       "</div>"
      ],
      "text/plain": [
       "  offer  dispatch\n",
       "0   A/1      50.0\n",
       "1   A/2      -0.0\n",
       "2   B/1     100.0\n",
       "3   B/2      -0.0\n",
       "4   C/1     100.0\n",
       "5   C/2     100.0"
      ]
     },
     "execution_count": 12,
     "metadata": {},
     "output_type": "execute_result"
    }
   ],
   "source": [
    "DataFrame({\"offer\": data.offers[\"id\"].values, \"dispatch\": dispatch})"
   ]
  },
  {
   "cell_type": "code",
   "execution_count": 13,
   "id": "f62417fa",
   "metadata": {},
   "outputs": [
    {
     "data": {
      "text/plain": [
       "13250.0"
      ]
     },
     "execution_count": 13,
     "metadata": {},
     "output_type": "execute_result"
    }
   ],
   "source": [
    "assert np.isclose(total_cost, sum(data.offers[\"price\"].values * dispatch))\n",
    "total_cost"
   ]
  },
  {
   "cell_type": "markdown",
   "id": "0d754576",
   "metadata": {},
   "source": [
    "We'll build on this LP solution when we tackle general networks (multiple buses and lines) and the Unit Commitment problem for longer planning horizons."
   ]
  },
  {
   "cell_type": "markdown",
   "id": "a8f78d8b",
   "metadata": {},
   "source": [
    "# _Marginal Costs are not Fixed!_\n",
    "\n",
    "Recall that the `fixed_cost` column of the `generators` table was **not** used in the calculations above.\n",
    "\n",
    "_What would happen if we did account for fixed costs in the OPF problem?_"
   ]
  },
  {
   "cell_type": "code",
   "execution_count": 14,
   "id": "5f629c9b",
   "metadata": {},
   "outputs": [],
   "source": [
    "def solve_fp(load: float):\n",
    "    \"\"\"Total and cost and increment (with respect to 1MW load increment) for dispatch problem with fixed costs.\"\"\"\n",
    "    global data\n",
    "    result = clear_offer_stack_fp(data, load=load)\n",
    "    perturbed = clear_offer_stack_fp(data, load=load + 1.0)\n",
    "    price_delta = perturbed.total_cost - result.total_cost\n",
    "    return result.total_cost, price_delta"
   ]
  },
  {
   "cell_type": "code",
   "execution_count": 15,
   "id": "0f4940d4",
   "metadata": {},
   "outputs": [],
   "source": [
    "loads = np.linspace(0, data.generators[\"capacity\"].sum() - 1.0, 100)\n",
    "costs = [solve_fp(load) for load in loads]\n",
    "total_costs, marginal_costs = zip(*costs)"
   ]
  },
  {
   "cell_type": "markdown",
   "id": "ec9b1e31",
   "metadata": {},
   "source": [
    "Skip the plotting commands below and discuss the output with your neighbour:\n",
    "* How to cost increments relate to marginal costs and to the total cost?\n",
    "* Can we explain the cost increments in light of the problem data (`generators` and `offers`)?"
   ]
  },
  {
   "cell_type": "code",
   "execution_count": 16,
   "id": "495fcbeb",
   "metadata": {},
   "outputs": [
    {
     "data": {
      "image/png": "[encoded data removed]",
      "text/plain": [
       "<Figure size 640x480 with 2 Axes>"
      ]
     },
     "metadata": {},
     "output_type": "display_data"
    },
    {
     "data": {
      "text/plain": [
       "<Figure size 640x480 with 0 Axes>"
      ]
     },
     "metadata": {},
     "output_type": "display_data"
    }
   ],
   "source": [
    "fig, ax_total = plt.subplots()\n",
    "ax_marginal = ax_total.twinx()\n",
    "ax_marginal.plot(loads, marginal_costs, label=\"marginal cost [$/MWh]\", color=\"red\")\n",
    "ax_marginal.set_ylabel(\"marginal cost [$/MWh]\")\n",
    "ax_total.plot(loads, total_costs, label=\"cost [$/MWh]\", color=\"blue\")\n",
    "ax_total.set_xlabel(\"load [MW]\")\n",
    "ax_total.set_ylabel(\"total cost [$/MWh]\")\n",
    "ax_total.set_title(\"cost increments vs load\")\n",
    "ax_total.grid(True)\n",
    "plt.show(block=False)\n",
    "plt.savefig(\"images/non-monotonic-prices.png\")"
   ]
  }
 ],
 "metadata": {
  "jupytext": {
   "cell_metadata_filter": "-all",
   "main_language": "python",
   "notebook_metadata_filter": "-all"
  },
  "kernelspec": {
   "display_name": "venv",
   "language": "python",
   "name": "python3"
  },
  "language_info": {
   "codemirror_mode": {
    "name": "ipython",
    "version": 3
   },
   "file_extension": ".py",
   "mimetype": "text/x-python",
   "name": "python",
   "nbconvert_exporter": "python",
   "pygments_lexer": "ipython3",
   "version": "3.11.9"
  }
 },
 "nbformat": 4,
 "nbformat_minor": 5
}
