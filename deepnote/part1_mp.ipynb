{
 "cells": [
  {
   "cell_type": "code",
   "execution_count": null,
   "id": "187da6a4",
   "metadata": {},
   "outputs": [],
   "source": [
    "from copy import deepcopy\n",
    "from matplotlib import pyplot as plt\n",
    "import numpy as np\n",
    "import sea2025\n",
    "from part1_mp_helpers import clear_offer_stack, clear_offer_stack_fp, plot_offer_stack"
   ]
  },
  {
   "cell_type": "code",
   "execution_count": null,
   "id": "160b7552",
   "metadata": {},
   "outputs": [],
   "source": [
    "data = sea2025.data.read_tuple(\"data/fc1bus\", lines=None)\n",
    "load = data.buses.at[0, \"load\"]\n",
    "\n",
    "result = clear_offer_stack(data, load=load)\n",
    "plot_offer_stack(result.offers, load=load, marginal_price=result.marginal_price)\n",
    "plt.show(block=False)"
   ]
  },
  {
   "cell_type": "code",
   "execution_count": null,
   "id": "8456fc40",
   "metadata": {},
   "outputs": [],
   "source": [
    "def solve_fp(load: float):\n",
    "    global data\n",
    "    result = clear_offer_stack_fp(data, load=load)\n",
    "    perturbed = clear_offer_stack_fp(data, load=load + 1.0)\n",
    "    price_delta = perturbed.total_cost - result.total_cost\n",
    "    return result.total_cost, price_delta"
   ]
  },
  {
   "cell_type": "code",
   "execution_count": null,
   "id": "abc289ed",
   "metadata": {},
   "outputs": [],
   "source": [
    "loads = np.linspace(0, data.generators[\"capacity\"].sum() - 1.0, 100)\n",
    "costs = [solve_fp(load) for load in loads]\n",
    "total_costs, marginal_costs = zip(*costs)"
   ]
  },
  {
   "cell_type": "code",
   "execution_count": null,
   "id": "ec90d6c4",
   "metadata": {},
   "outputs": [],
   "source": [
    "fig, ax_total = plt.subplots()\n",
    "ax_marginal = ax_total.twinx()\n",
    "ax_marginal.plot(loads, marginal_costs, label=\"marginal cost [$/MWh]\", color=\"red\")\n",
    "ax_marginal.set_ylabel(\"marginal cost [$/MWh]\")\n",
    "ax_total.plot(loads, total_costs, label=\"cost [$/MWh]\", color=\"blue\")\n",
    "ax_total.set_xlabel(\"load [MW]\")\n",
    "ax_total.set_ylabel(\"total cost [$/MWh]\")\n",
    "ax_total.set_title(\"cost increments vs load\")\n",
    "ax_total.grid(True)\n",
    "plt.show(block=False)"
   ]
  }
 ],
 "metadata": {
  "jupytext": {
   "cell_metadata_filter": "-all",
   "main_language": "python",
   "notebook_metadata_filter": "-all"
  },
  "language_info": {
   "name": "python"
  }
 },
 "nbformat": 4,
 "nbformat_minor": 5
}
