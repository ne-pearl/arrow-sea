{
 "cells": [
  {
   "cell_type": "code",
   "execution_count": null,
   "id": "99341545",
   "metadata": {},
   "outputs": [],
   "source": [
    "from matplotlib import pyplot as plt\n",
    "import sea2025\n",
    "from part2_opf_helpers import clear_market, postprocess, make_graph, plot_graph\n",
    "\n",
    "def process(data):\n",
    "    \"\"\"Solves OPF problem and displays results.\"\"\"\n",
    "    result = clear_market(data)\n",
    "    postprocess(result)  # add fields\n",
    "    graph = make_graph(result)\n",
    "    plot_graph(graph)\n",
    "    plt.show()\n",
    "    return result, graph"
   ]
  },
  {
   "cell_type": "code",
   "execution_count": null,
   "id": "54236f28",
   "metadata": {},
   "outputs": [],
   "source": [
    "data = sea2025.data.read(\"data/triangle1\")\n",
    "process(data);"
   ]
  },
  {
   "cell_type": "code",
   "execution_count": null,
   "id": "5120018f",
   "metadata": {},
   "outputs": [],
   "source": [
    "data.buses.at[2, \"load\"] += 1.0\n",
    "process(data);"
   ]
  },
  {
   "cell_type": "code",
   "execution_count": null,
   "id": "837af14d",
   "metadata": {},
   "outputs": [],
   "source": [
    "data = sea2025.data.read(\"data/triangle2\")\n",
    "process(data);"
   ]
  },
  {
   "cell_type": "code",
   "execution_count": null,
   "id": "ee532a42",
   "metadata": {},
   "outputs": [],
   "source": [
    "data.buses.at[2, \"load\"] += 1.0\n",
    "process(data);"
   ]
  },
  {
   "cell_type": "code",
   "execution_count": null,
   "id": "91503946",
   "metadata": {},
   "outputs": [],
   "source": [
    "data = sea2025.data.read(\"data/triangle3\")\n",
    "process(data);"
   ]
  },
  {
   "cell_type": "code",
   "execution_count": null,
   "id": "546028a9",
   "metadata": {},
   "outputs": [],
   "source": [
    "data.buses.at[2, \"load\"] += 1.0\n",
    "process(data);"
   ]
  },
  {
   "cell_type": "code",
   "execution_count": null,
   "id": "74f5494b",
   "metadata": {},
   "outputs": [],
   "source": [
    "data = sea2025.data.read(\"data/triangle4\")\n",
    "process(data);"
   ]
  },
  {
   "cell_type": "code",
   "execution_count": null,
   "id": "f7df1ef9",
   "metadata": {},
   "outputs": [],
   "source": [
    "data.buses.at[2, \"load\"] += 1.0\n",
    "process(data);"
   ]
  }
 ],
 "metadata": {
  "jupytext": {
   "cell_metadata_filter": "-all",
   "main_language": "python",
   "notebook_metadata_filter": "-all"
  }
 },
 "nbformat": 4,
 "nbformat_minor": 5
}
