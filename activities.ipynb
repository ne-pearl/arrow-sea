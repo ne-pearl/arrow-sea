{
 "cells": [
  {
   "cell_type": "markdown",
   "id": "65403e85",
   "metadata": {},
   "source": [
    "Worksheet\n",
    "========="
   ]
  },
  {
   "cell_type": "markdown",
   "id": "aff57a22",
   "metadata": {},
   "source": [
    "## Objectives\n",
    "\n",
    "Examine how real-time energy prices (from [ISO New England](https://www.iso-ne.com/isoexpress/) or [PJM](https://dataviewer.pjm.com/dataviewer/pages/public/lmp.jsf)) are established\n",
    "\n",
    "* Formulate the linear optimization problem in Python\n",
    "* Discuss several scenarios\n",
    "* Perhaps try our hand as Market Participants, if time allows"
   ]
  },
  {
   "cell_type": "markdown",
   "id": "415880c0",
   "metadata": {},
   "source": [
    "## Optimal Power Flow (OPF) problems\n",
    "\n",
    "| Category  | Description                      | Per       | Unit      |\n",
    "| --------- | -------------------------------- | --------- | --------- |\n",
    "| output    | dispatch instructions            | generator | MW        |\n",
    "| output    | locational marginal prices (LMP) | bus       | $/MWh     |\n",
    "| input     | demand/load                      | bus       | MW        |\n",
    "| input     | supply quantity, price           | offer     | MW, $/MWh |\n",
    "| input     | reactance, capacity              | line      | Ω, MW     |\n",
    "| input     | line-bus topology                | -         | -         |\n"
   ]
  },
  {
   "cell_type": "markdown",
   "id": "231506b6",
   "metadata": {},
   "source": [
    "### AC optimal power flow (OPF) problem:\n",
    "\n",
    "$$\n",
    "\\min_{S^{\\text{gen}} \\in \\mathbb{C}^{M+N}, ~ v \\in \\mathbb{C}^M} ~ \\sum_a c_a(S_a^{\\text{gen}})\n",
    "\\\\\n",
    "S_{ab} = v_a (v_a^* - v_b^*) / z_{ab}^* \\quad \\text{(power flow on line $ab$)}\n",
    "\\\\\n",
    "S_a^{\\text{gen}} = \\sum_{b} S_{ab} + S_a^{\\text{load}} \\quad \\text{(power balance at bus $a$)}\n",
    "\\\\\n",
    "\\vert S_{ab}\\vert \\leq \\bar{S}_{ab} \\quad \\text{(line capacity)}\n",
    "\\\\\n",
    "\\underline{S}_a \\leq S_a^{\\text{gen}} \\leq \\bar{S}_a \\quad \\text{(injection bounds)}\n",
    "\\\\\n",
    "0 < \\underline{v}_a \\leq |v_a| \\leq \\bar{v}_a \\quad \\text{(voltage limits)}\n",
    "\\\\\n",
    "v_0 = 1 + 0i \\quad \\text{voltage at reference bus}\n",
    "$$"
   ]
  },
  {
   "cell_type": "markdown",
   "id": "e2fa794b",
   "metadata": {},
   "source": [
    "### Linearized OPF problem:\n",
    "\n",
    "Simplifications:\n",
    "\n",
    "| Symbol            | Linearized OPF | AC OPF analog                 | Assumption                              | Unit     |\n",
    "| ----------------- | -------------- | ----------------------------- | --------------------------------------- | -------- |\n",
    "| bus injection     | $p_a$          | $\\operatorname{real}(S_{a}^{\\text{gen}})$  | $\\operatorname{imag}(S_{a}^{\\text{gen}}) \\approx 0$  | MW       |\n",
    "| line flow         | $f_{ab}$       | $\\operatorname{real}(S_{ab})$ | $\\operatorname{imag}(S_{ab}) \\approx 0$ | MW       |\n",
    "| bus voltage angle | $\\theta_a$     | $\\operatorname{angle}(v_a)$   | $\\operatorname{abs}(v_a) \\approx 1$     | rad      |\n",
    "| line reactance    | $x_{ab}$       | $\\operatorname{imag}(z_{ab})$ | $\\operatorname{real}(z_{ab}) \\approx 0$ | $\\Omega$ |\n",
    "\n",
    "Resulting formulation:\n",
    "\n",
    "$$\n",
    "\\min_{p, ~ f, ~ \\theta} ~ \\sum_a c_a p_a\n",
    "\\\\\n",
    "f_{ab} = (\\theta_a - \\theta_b) / x_{ab} \\quad \\text{(power flow on line $ab$)}\n",
    "\\\\\n",
    "p_a = \\sum_{b} f_{ab} \\quad \\text{(power balance at bus $a$)}\n",
    "\\\\\n",
    "\\vert f_{ab}\\vert \\leq \\bar{f}_{ab} \\quad \\text{(line capacity)}\n",
    "\\\\\n",
    "0 \\leq p_a \\leq \\bar{p}_a \\quad \\text{(injection bounds)}\n",
    "\\\\\n",
    "\\theta_0 = 0 \\quad \\text{angle at reference bus}\n",
    "$$\n",
    "\n",
    "Associated marginal price at bus $b$:\n",
    "\n",
    "$$\n",
    "\\text{LMP}_b~[\\$/\\text{MWh}] = \\frac{\\partial~\\text{total cost [\\$/h]}}{\\partial~\\text{load}_b~[\\text{MW}]}\n",
    "$$\n",
    "\n",
    "Run every 5 minutes to clear the Real-Time Energy Market."
   ]
  },
  {
   "cell_type": "markdown",
   "id": "182c630b",
   "metadata": {},
   "source": [
    "## Activity 0: Introduction to Deepnote and Jupyter notebooks\n",
    "\n",
    "* Create a Deepnote account\n",
    "* Start your Deepnote computer\n",
    "* Run cells\n",
    "* Add new cells"
   ]
  },
  {
   "cell_type": "markdown",
   "id": "93ef172b",
   "metadata": {},
   "source": [
    "## Activity 1: Meet the input data format [5 minutes]\n",
    "\n",
    "> Aim to become familiar the format our of data tables (`buses`, `generators`, `lines`, `offers`) and to interact with them.\n",
    "\n",
    "* Open `activity1-inputs.ipnb` and examine the dataframes defined within.\n",
    "* Execute each cell (and the entire notebook) to get acquainted with the [Jupyter](https://docs.jupyter.org/en/latest/) notebook interface.\n",
    "* Identify where each column shows up in the plot.\n",
    "\n",
    "Next, we'll consider the processing between the tables and the plot."
   ]
  },
  {
   "cell_type": "markdown",
   "id": "8c79cd73",
   "metadata": {},
   "source": [
    "## Activity 2: Define the linearized power flow constraints [10-15 minutes]\n",
    "\n",
    "> The linearized OPF involves two sets of equality constraints. One is already implemented, and we'll complete the other.\n",
    "\n",
    "1. Open `activity2-opf.ipnb`, and scan its contents: You see an incomplete OPF model implemented in [CVXPY](https://www.cvxpy.org/).\n",
    "2. Study the power balance constraint, provided. You might like to execute the cell (after its predecessors) and examine the results of any subexpressions that are unclear.\n",
    "3. Try to complete the following elements:\n",
    "   - The power flow constraints (relating line flows and bus voltage angles).\n",
    "   - The sum in the `cp.Minimize(...)` objective function\n",
    "   - Upper bounds on the decision variables (lower bounds are provided)\n",
    "   - The voltage constraint at the reference bus\n",
    "4. Run the entire script: If you don't get a total cost of `$17479.90/h`, try to spot your error.\n",
    "5. On the plot, check that:\n",
    "   - All constraints are satisfied.\n",
    "   - You can't spot a cheaper dispatching generators to meet all loads.\n",
    "   - The sum of flows around each simple loop is zero."
   ]
  },
  {
   "cell_type": "markdown",
   "id": "fc468fec",
   "metadata": {},
   "source": [
    "## Activity 3: Locational marginal prices [5 mins]\n",
    "\n",
    "> In the previous activity, the LMPs appeared as a byproduct of the solver. Let's confirm that these prices meet our definition.\n",
    "\n",
    "1. Select any bus (e.g., `A`) and make a note of its LMP.\n",
    "2. Increase the load at your chosen bus by 1MW and re-solve the OPF problem.\n",
    "3. The difference between the new optimal objective and the original (`$17479.90/h`) should match the LMP you wrote down.\n",
    "4. You might like to repeat this for another node.\n",
    "\n",
    "> How might you use this procedure to price/value line capacity? "
   ]
  },
  {
   "cell_type": "markdown",
   "id": "df93a381",
   "metadata": {},
   "source": [
    "## Activity 4: Congestion scenarios [20 mins]\n",
    "\n",
    "All of these activities make use of `congestion-scenarios.ipynb`.\n",
    "\n",
    "### Scenario 1: No congestion [5 mins]\n",
    "\n",
    "* Study the notebook and execut it.\n",
    "* Verify that there is no line congestion and no price separation.\n",
    "* Check that the LMPs satisfy our definition at each node.\n",
    "\n",
    "### Scenario 2: Price separation [5 mins]\n",
    "\n",
    "* Reduce the capacity of line `Bus1-Bus2` to 30MW and resolve the notebook.\n",
    "* Verify that prices now separate.\n",
    "* Again, verify that the LMPs satisfy the definition at each node.\n",
    "\n",
    "### Scenario 3: Congestion premium [5 mins]\n",
    "\n",
    "\n",
    "### Scenario 4: Reverse congestion [5 mins]\n"
   ]
  },
  {
   "cell_type": "markdown",
   "id": "bddcdd9c",
   "metadata": {},
   "source": [
    "## Activity 5: Market participation [10 mins]\n",
    "\n",
    "> Let's try this in groups of 2-3, say.\n",
    "\n",
    "1. Open `pjm5bus.ipynb` and each pick a different generator.\n",
    "2. **Confidentially**, write down up to three supply offers (price \\& quantity) for your generator (reflecting its current capacity) on a secret slip of paper.\n",
    "3. Update the offers paper and re-solve the OPF. Record the change in revenue, relative to the baseline configuration.\n",
    "4. Record your best revenue increase relative to the baseline, over two or three rounds."
   ]
  },
  {
   "cell_type": "markdown",
   "id": "89df3197",
   "metadata": {},
   "source": [
    "## Review questions\n",
    "\n",
    "### Marginal prices\n",
    "\n",
    "1. Identify products with near-zero marginal price?\n",
    "2. What is a (locational) marginal energy price (LMP)?\n",
    "3. Why might LMPs vary across a network?\n",
    "4. Why do LMPs vary over time?\n",
    "5. Which operating costs are not captured by marginal pricing?\n",
    "6. How are these additional costs covered in practice?\n",
    "\n",
    "### Optimal power flow\n",
    "\n",
    "1. What are the decision variables of the OPF problem? How are they used?\n",
    "2. What are the constraints? How do they associate with network elements?\n",
    "3. What is the objective function?\n",
    "4. What are the key assumptions in the linearized OPF model?\n",
    "5. Are we always able to solve the DC-OPF?\n",
    "6. Why not solve the AC-OPF instead?\n",
    "7. How does power flow relate to bus voltage angles?\n",
    "\n",
    "### Network economics\n",
    "\n",
    "1. Do the LMP have economic significance at a bus with zero load? With zero generation capacity?\n",
    "2. How can load payments exceed generation payments if energy losses are neglected?\n",
    "\n",
    "### Unit commitment\n",
    "\n",
    "1. Which variable in the commitment problem do not appear in the pricing problem?\n",
    "2. Which constraints in the commitment problem do not appear in the pricing problem?\n",
    "3. Why are energy prices not determined from the commitment problem?\n",
    "4. Which of a generator's operating costs are not captured by the pricing problem?\n",
    "\n",
    "### Implementations\n",
    "\n",
    "1. Why are LMPs not universally adopted?\n",
    "\n",
    "### Extensions\n",
    "\n",
    "1. What might you change in our OPF model to accommodate battery energy storage?\n",
    "2. Is the location of the reference bus significant?"
   ]
  },
  {
   "cell_type": "markdown",
   "id": "fb906fd4",
   "metadata": {},
   "source": [
    "## Unit commitment\n",
    "\n",
    "<!-- Krishnamurthy et al. (2016) -->\n",
    "\n",
    "| Cost | Description |\n",
    "|---|---|\n",
    "| start-up costs | to attain synchronized state |\n",
    "| no-load costs | to remain synchronized |\n",
    "| dispatch costs | of energy injection |\n",
    "| shut-down costs | to eliminate operating costs |"
   ]
  },
  {
   "cell_type": "markdown",
   "id": "6e89964a",
   "metadata": {},
   "source": [
    "## Extensions for further reading\n",
    "\n",
    "* Incorporating transmission losses into the linearized OPF model.\n",
    "* Decomposition LMPs into energy, congestion, and loss components.\n",
    "* Financial Transmission Rights (FTRs) on congestion rents.\n",
    "* Uplift payments for transmission losses.\n",
    "* Load forecasting techniques.\n",
    "* Systematic detection of market power."
   ]
  },
  {
   "cell_type": "markdown",
   "id": "e560f402",
   "metadata": {},
   "source": [
    "## References\n",
    "\n",
    "* [Fu & Li (2006) _Different Models and properties on LMP calculations_](https://doi.org/10.1109/PES.2006.1709536)\n",
    "  - A description of LMP formulations, including the pricing of congestion and losses\n",
    "* [Li & Bo (2010) _Small Test Systems for Power System Economic Studies_](https://doi.org/10.1109/PES.2010.5589973)\n",
    "  - A description of the PJM 5-bus model\n",
    "* [CVXPY documentation](https://www.cvxpy.org/)\n",
    "* [Deepnote documentation](https://deepnote.com/docs/)\n",
    "* [Jupyter documentation](https://docs.jupyter.org/en/latest/)\n"
   ]
  }
 ],
 "metadata": {
  "language_info": {
   "name": "python"
  }
 },
 "nbformat": 4,
 "nbformat_minor": 5
}
